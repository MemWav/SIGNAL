{
 "cells": [
  {
   "cell_type": "markdown",
   "id": "158d89c1",
   "metadata": {},
   "source": [
    "# Hand Gesture Transformer – Training notebook\n",
    "\n",
    "이 노트북은 Mediapipe로 추출한 21개 손 랜드마크(3‑D)를 Transformer Encoder에 넣어 4‑클래스 손동작을 분류하는 모델을 학습합니다.\n",
    "\n",
    "* Train : Val = 80 : 20\n",
    "* 결과: 에포크별 loss & accuracy 그래프, action별 Attention heat‑map 시각화\n"
   ]
  },
  {
   "cell_type": "code",
   "execution_count": 1,
   "id": "37f7a78c",
   "metadata": {},
   "outputs": [],
   "source": [
    "import os\n",
    "import numpy as np\n",
    "import torch\n",
    "import torch.nn as nn\n",
    "import torch.optim as optim\n",
    "from torch.utils.data import Dataset, DataLoader, random_split\n",
    "from tqdm import tqdm\n",
    "import json\n",
    "import matplotlib.pyplot as plt\n",
    "from models.model import GestureModel\n",
    "import seaborn as sns\n",
    "from config import GESTURE"
   ]
  },
  {
   "cell_type": "code",
   "execution_count": null,
   "id": "afe5db52",
   "metadata": {},
   "outputs": [],
   "source": [
    "class Settings:\n",
    "    window_size = 30\n",
    "    batch_size = 64\n",
    "    epochs = 15\n",
    "    learning_rate = 0.0001\n",
    "    dataset_dir = './json_data/'\n",
    "    model_save_dir = './checkpoint/'\n",
    "    device = torch.device('cuda' if torch.cuda.is_available() else 'cpu')\n",
    "    num_classes = len(GESTURE)     # 8 Gestures + No Action\n",
    "    seed = 42\n",
    "\n",
    "os.makedirs(Settings.model_save_dir, exist_ok=True)\n",
    "ckpt_path = os.path.join(Settings.model_save_dir, \"best.pth\")"
   ]
  },
  {
   "cell_type": "code",
   "execution_count": 3,
   "id": "00342bbe",
   "metadata": {},
   "outputs": [],
   "source": [
    "class GestureDataset(Dataset):\n",
    "    def __init__(self, folder_dir, window_size=30):\n",
    "        self.window_size = window_size\n",
    "        self.data = []\n",
    "        self.labels = []\n",
    "        self._load_data(folder_dir)\n",
    "\n",
    "    def _load_data(self, folder_dir):\n",
    "        for file in os.listdir(folder_dir):\n",
    "            if file.endswith('.json'):\n",
    "                filepath = os.path.join(folder_dir, file)\n",
    "                with open(filepath, 'r') as f:\n",
    "                    content = json.load(f)\n",
    "                    samples = content['samples']\n",
    "\n",
    "                    joints = [np.array(sample['joint']) for sample in samples]\n",
    "                    joints = np.array(joints) - joints[0]\n",
    "                    labels = [sample['label'] for sample in samples]\n",
    "\n",
    "                    for i in range(len(joints) - self.window_size + 1):\n",
    "                        window = joints[i:i+self.window_size]\n",
    "                        label = labels[i+self.window_size-1]\n",
    "\n",
    "                        window = np.stack(window, axis=0)\n",
    "                        self.data.append(window)\n",
    "                        self.labels.append(label)\n",
    "\n",
    "    def __len__(self):\n",
    "        return len(self.data)\n",
    "\n",
    "    def __getitem__(self, idx):\n",
    "        x = torch.tensor(self.data[idx], dtype=torch.float32)\n",
    "        y = torch.tensor(self.labels[idx], dtype=torch.long)\n",
    "        return x, y"
   ]
  },
  {
   "cell_type": "code",
   "execution_count": 4,
   "id": "ab5fd574",
   "metadata": {},
   "outputs": [],
   "source": [
    "# dataset = GestureDataset(Settings.dataset_dir, Settings.window_size)\n",
    "# train_size = int(0.8 * len(dataset))\n",
    "# val_size = len(dataset) - train_size\n",
    "# train_dataset, val_dataset = random_split(dataset, [train_size, val_size])\n",
    "# train_loader = DataLoader(train_dataset, batch_size=Settings.batch_size, shuffle=True)\n",
    "# val_loader = DataLoader(val_dataset, batch_size=Settings.batch_size, shuffle=False)"
   ]
  },
  {
   "cell_type": "code",
   "execution_count": 5,
   "id": "823f8c62",
   "metadata": {},
   "outputs": [],
   "source": [
    "dataset = GestureDataset(Settings.dataset_dir, Settings.window_size)\n",
    "\n",
    "n_total = len(dataset)\n",
    "n_train = int(n_total * 0.7)\n",
    "n_val   = int(n_total * 0.2)\n",
    "n_test  = n_total - n_train - n_val\n",
    "\n",
    "train_set, val_set, test_set = random_split(\n",
    "    dataset, [n_train, n_val, n_test],\n",
    "    generator=torch.Generator().manual_seed(Settings.seed)\n",
    ")\n",
    "\n",
    "train_loader = DataLoader(train_set, batch_size=Settings.batch_size,\n",
    "                          shuffle=True,  num_workers=4, pin_memory=True)\n",
    "val_loader   = DataLoader(val_set,   batch_size=Settings.batch_size,\n",
    "                          shuffle=False, num_workers=4, pin_memory=True)\n",
    "test_loader  = DataLoader(test_set,  batch_size=Settings.batch_size,\n",
    "                          shuffle=False, num_workers=4, pin_memory=True)"
   ]
  },
  {
   "cell_type": "code",
   "execution_count": 6,
   "id": "44304525",
   "metadata": {},
   "outputs": [],
   "source": [
    "model = GestureModel(n_cls=Settings.num_classes).to(Settings.device)\n",
    "criterion = nn.CrossEntropyLoss()\n",
    "optimizer = optim.Adam(model.parameters(), lr=Settings.learning_rate)"
   ]
  },
  {
   "cell_type": "code",
   "execution_count": 7,
   "id": "5d9231a1",
   "metadata": {},
   "outputs": [],
   "source": [
    "def run(loader, train=True):\n",
    "    model.train(train)\n",
    "    tot, correct, loss_sum = 0,0,0.0\n",
    "    for x,y in tqdm(loader, leave=False):\n",
    "        x,y = x.to(Settings.device), y.to(Settings.device)\n",
    "        if train: optimizer.zero_grad()\n",
    "        out = model(x)\n",
    "        loss = criterion(out, y)\n",
    "        if train:\n",
    "            loss.backward()\n",
    "            optimizer.step()\n",
    "        pred = out.argmax(1)\n",
    "        tot += y.size(0); correct += (pred==y).sum().item()\n",
    "        loss_sum += loss.item()*y.size(0)\n",
    "    return loss_sum/tot, correct/tot"
   ]
  },
  {
   "cell_type": "code",
   "execution_count": 8,
   "id": "d93452bd",
   "metadata": {},
   "outputs": [
    {
     "name": "stderr",
     "output_type": "stream",
     "text": [
      "                                               \r"
     ]
    },
    {
     "name": "stdout",
     "output_type": "stream",
     "text": [
      "[1] train loss:1.7358 | accuracy:0.289\n",
      "val loss:1.1076 | accuracy:0.546\n",
      "  ↳ best saved (0.546)\n"
     ]
    },
    {
     "name": "stderr",
     "output_type": "stream",
     "text": [
      "                                               \r"
     ]
    },
    {
     "name": "stdout",
     "output_type": "stream",
     "text": [
      "[2] train loss:0.7696 | accuracy:0.701\n",
      "val loss:0.6817 | accuracy:0.748\n",
      "  ↳ best saved (0.748)\n"
     ]
    },
    {
     "name": "stderr",
     "output_type": "stream",
     "text": [
      "                                               \r"
     ]
    },
    {
     "name": "stdout",
     "output_type": "stream",
     "text": [
      "[3] train loss:0.5100 | accuracy:0.806\n",
      "val loss:0.4202 | accuracy:0.839\n",
      "  ↳ best saved (0.839)\n"
     ]
    },
    {
     "name": "stderr",
     "output_type": "stream",
     "text": [
      "                                               \r"
     ]
    },
    {
     "name": "stdout",
     "output_type": "stream",
     "text": [
      "[4] train loss:0.3756 | accuracy:0.857\n",
      "val loss:0.3768 | accuracy:0.850\n",
      "  ↳ best saved (0.850)\n"
     ]
    },
    {
     "name": "stderr",
     "output_type": "stream",
     "text": [
      "                                               \r"
     ]
    },
    {
     "name": "stdout",
     "output_type": "stream",
     "text": [
      "[5] train loss:0.3408 | accuracy:0.862\n",
      "val loss:0.2786 | accuracy:0.904\n",
      "  ↳ best saved (0.904)\n"
     ]
    },
    {
     "name": "stderr",
     "output_type": "stream",
     "text": [
      "                                               \r"
     ]
    },
    {
     "name": "stdout",
     "output_type": "stream",
     "text": [
      "[6] train loss:0.2812 | accuracy:0.892\n",
      "val loss:0.2436 | accuracy:0.896\n"
     ]
    },
    {
     "name": "stderr",
     "output_type": "stream",
     "text": [
      "                                               \r"
     ]
    },
    {
     "name": "stdout",
     "output_type": "stream",
     "text": [
      "[7] train loss:0.2761 | accuracy:0.900\n",
      "val loss:0.1413 | accuracy:0.962\n",
      "  ↳ best saved (0.962)\n"
     ]
    },
    {
     "name": "stderr",
     "output_type": "stream",
     "text": [
      "                                               \r"
     ]
    },
    {
     "name": "stdout",
     "output_type": "stream",
     "text": [
      "[8] train loss:0.2190 | accuracy:0.927\n",
      "val loss:0.1384 | accuracy:0.959\n"
     ]
    },
    {
     "name": "stderr",
     "output_type": "stream",
     "text": [
      "                                               \r"
     ]
    },
    {
     "name": "stdout",
     "output_type": "stream",
     "text": [
      "[9] train loss:0.1371 | accuracy:0.957\n",
      "val loss:0.3797 | accuracy:0.870\n"
     ]
    },
    {
     "name": "stderr",
     "output_type": "stream",
     "text": [
      "                                               \r"
     ]
    },
    {
     "name": "stdout",
     "output_type": "stream",
     "text": [
      "[10] train loss:0.1469 | accuracy:0.954\n",
      "val loss:0.1673 | accuracy:0.948\n"
     ]
    },
    {
     "name": "stderr",
     "output_type": "stream",
     "text": [
      "                                               \r"
     ]
    },
    {
     "name": "stdout",
     "output_type": "stream",
     "text": [
      "[11] train loss:0.0797 | accuracy:0.979\n",
      "val loss:0.0749 | accuracy:0.976\n",
      "  ↳ best saved (0.976)\n"
     ]
    },
    {
     "name": "stderr",
     "output_type": "stream",
     "text": [
      "                                               \r"
     ]
    },
    {
     "name": "stdout",
     "output_type": "stream",
     "text": [
      "[12] train loss:0.0965 | accuracy:0.970\n",
      "val loss:0.0422 | accuracy:0.990\n",
      "  ↳ best saved (0.990)\n"
     ]
    },
    {
     "name": "stderr",
     "output_type": "stream",
     "text": [
      "                                               \r"
     ]
    },
    {
     "name": "stdout",
     "output_type": "stream",
     "text": [
      "[13] train loss:0.0524 | accuracy:0.985\n",
      "val loss:0.0515 | accuracy:0.984\n"
     ]
    },
    {
     "name": "stderr",
     "output_type": "stream",
     "text": [
      "                                               \r"
     ]
    },
    {
     "name": "stdout",
     "output_type": "stream",
     "text": [
      "[14] train loss:0.0714 | accuracy:0.977\n",
      "val loss:0.0699 | accuracy:0.976\n"
     ]
    },
    {
     "name": "stderr",
     "output_type": "stream",
     "text": [
      "                                               "
     ]
    },
    {
     "name": "stdout",
     "output_type": "stream",
     "text": [
      "[15] train loss:0.0385 | accuracy:0.988\n",
      "val loss:0.0278 | accuracy:0.991\n",
      "  ↳ best saved (0.991)\n",
      "\n",
      "Best accuracy = 0.991 (epoch 15)\n"
     ]
    },
    {
     "name": "stderr",
     "output_type": "stream",
     "text": [
      "\r"
     ]
    }
   ],
   "source": [
    "best = 0.0\n",
    "best_epoch = 0\n",
    "for ep in range(1, Settings.epochs+1):\n",
    "    train_loss, train_acc = run(train_loader,True)\n",
    "    val_loss ,val_acc = run(val_loader,False)\n",
    "    print(f\"[{ep}] train loss:{train_loss:.4f} | accuracy:{train_acc:.3f}\\nval loss:{val_loss:.4f} | accuracy:{val_acc:.3f}\")\n",
    "    if val_acc > best:\n",
    "        best = val_acc\n",
    "        best_epoch = ep\n",
    "        torch.save(model.state_dict(), ckpt_path)\n",
    "        print(f\"  ↳ best saved ({best:.3f})\")\n",
    "\n",
    "print(f\"\\nBest accuracy = {best:.3f} (epoch {best_epoch})\")"
   ]
  },
  {
   "cell_type": "code",
   "execution_count": 9,
   "id": "f844a13d",
   "metadata": {},
   "outputs": [
    {
     "name": "stderr",
     "output_type": "stream",
     "text": [
      "  0%|          | 0/13 [00:00<?, ?it/s]"
     ]
    },
    {
     "name": "stderr",
     "output_type": "stream",
     "text": [
      "                                              "
     ]
    },
    {
     "name": "stdout",
     "output_type": "stream",
     "text": [
      "Test loss:0.0229 | accuracy:0.994\n"
     ]
    },
    {
     "name": "stderr",
     "output_type": "stream",
     "text": [
      "\r"
     ]
    }
   ],
   "source": [
    "model.load_state_dict(torch.load(ckpt_path))\n",
    "test_loss, test_acc = run(test_loader, False)\n",
    "print(f\"Test loss:{test_loss:.4f} | accuracy:{test_acc:.3f}\")"
   ]
  },
  {
   "cell_type": "code",
   "execution_count": 10,
   "id": "3356ce40",
   "metadata": {},
   "outputs": [],
   "source": [
    "# 5-1. 어텐션을 반환하는 모델 로드\n",
    "viz_model = GestureModel(n_cls=Settings.num_classes, return_attn=True).to(Settings.device)\n",
    "viz_model.load_state_dict(torch.load(ckpt_path, map_location=Settings.device))\n",
    "viz_model.eval()\n",
    "\n",
    "# 5-2. 검증 세트 첫 배치를 하나 가져옴\n",
    "val_iter = iter(val_loader)\n",
    "frames, lbl = next(val_iter)\n",
    "frames = frames[:1].to(Settings.device)      # (1,30,21,3)\n",
    "\n",
    "with torch.no_grad():\n",
    "    logits, attn_list = viz_model(frames)      # attn_list[-1]: (B*30, h, 22, 22)\n",
    "\n",
    "# 5-3. 텐서 형태 변환 → (B,30,h,22,22)\n",
    "last_layer = attn_list[-1]\n",
    "B,T = 1, Settings.window_size\n",
    "h = last_layer.size(1)\n",
    "heat = last_layer.view(B, T, h, 22, 22)[0, 0, 0].cpu()   # (22,22) 첫 프레임·첫 헤드"
   ]
  },
  {
   "cell_type": "code",
   "execution_count": 11,
   "id": "44690340",
   "metadata": {},
   "outputs": [],
   "source": [
    "import random, torch, matplotlib.pyplot as plt, seaborn as sns\n",
    "import numpy as np\n",
    "\n",
    "# ──────────────────────────────────────────────────────────────\n",
    "# Mediapipe 손가락 구간 (엄지 1~4, 검지 5~8, 중지 9~12, 약지 13~16, 소지 17~20)\n",
    "FINGER_SPLITS = [1, 5, 9, 13, 17, 22]   # 축 그리드 선 위치\n",
    "# ──────────────────────────────────────────────────────────────\n",
    "\n",
    "def _draw_heat(ax, heat, title, vmin=None, vmax=None):\n",
    "    \"\"\"축(ax)에 히트맵 1장을 그린다.\"\"\"\n",
    "    sns.heatmap(\n",
    "        heat.cpu().numpy(),\n",
    "        cmap='viridis',\n",
    "        vmin=vmin, vmax=vmax,          # 공통 범위 or 개별\n",
    "        xticklabels=range(22),\n",
    "        yticklabels=list(range(22))[::-1],\n",
    "        linewidths=.4, linecolor='white',\n",
    "        square=True, cbar=True, cbar_kws={'shrink': .7},\n",
    "        ax=ax\n",
    "    )\n",
    "    # 손가락 구분선\n",
    "    for cut in FINGER_SPLITS:\n",
    "        ax.axhline(cut, color='black', lw=.5)\n",
    "        ax.axvline(cut, color='black', lw=.5)\n",
    "    ax.set_title(title, fontsize=11, pad=8)\n",
    "    ax.set_xlabel(\"Key\", fontsize=8); ax.set_ylabel(\"Query\", fontsize=8)\n",
    "    ax.tick_params(labelsize=6, rotation=0)\n",
    "\n",
    "def visualize_label_heatmaps(\n",
    "        target_idx: int,\n",
    "        gesture: dict,\n",
    "        loader,                 # 검증 DataLoader\n",
    "        model_with_attn,        # return_attn=True 모델\n",
    "        n_samples: int = 4,\n",
    "        head: int = 0,\n",
    "        layer: int = -1,\n",
    "        device: torch.device = torch.device('cpu')):\n",
    "    \"\"\"\n",
    "    target_idx   : 보고 싶은 레이블 인덱스\n",
    "    loader       : DataLoader (shuffle=False 권장)\n",
    "    model_with_attn : best 모델. forward → (logits, attn_list)\n",
    "    n_samples    : 히트맵 몇 장 볼지\n",
    "    head, layer  : 추출할 헤드·레이어\n",
    "    \"\"\"\n",
    "\n",
    "    # ── 1) 해당 레이블 인덱스 수집 ───────────────────────────\n",
    "    idx_pool = [i for i, (_, y) in enumerate(loader.dataset) if y == target_idx]\n",
    "    if not idx_pool:\n",
    "        print(f\"Label {target_idx} 샘플이 loader에 없습니다.\"); return\n",
    "    pick = random.sample(idx_pool, min(n_samples, len(idx_pool)))\n",
    "\n",
    "    # ── 2) 공통 vmin/vmax 계산 (절대 비교용) ───────────────\n",
    "    heat_list = []\n",
    "    model_with_attn.eval()\n",
    "    for ds_idx in pick:\n",
    "        frame, _ = loader.dataset[ds_idx]      # (30,21,3)\n",
    "        frame = frame.unsqueeze(0).to(device)\n",
    "        with torch.no_grad():\n",
    "            _, attn = model_with_attn(frame)\n",
    "        heat = attn[layer][0, head]            # (22,22)\n",
    "        heat_list.append(heat)\n",
    "    vmin = min(h.min().item() for h in heat_list)\n",
    "    vmax = max(h.max().item() for h in heat_list)\n",
    "\n",
    "    # ── 3) 2×2 서브플롯 그리기 ───────────────────────────\n",
    "    rows = (len(heat_list) + 1) // 2\n",
    "    fig, axes = plt.subplots(rows, 2, figsize=(12, 4.5 * rows),\n",
    "                             constrained_layout=True)\n",
    "    axes = axes.flatten()\n",
    "\n",
    "    for k, (heat, ds_idx) in enumerate(zip(heat_list, pick)):\n",
    "        _draw_heat(\n",
    "            axes[k],\n",
    "            heat,\n",
    "            title=f\"idx {ds_idx}   L{layer}·H{head}   \"\n",
    "                  f\"Label {target_idx}: {gesture.get(target_idx, 'Unknown')}\",\n",
    "            vmin=vmin, vmax=vmax\n",
    "        )\n",
    "\n",
    "    # 남는 축 숨기기\n",
    "    for ax in axes[len(heat_list):]:\n",
    "        ax.axis('off')\n",
    "\n",
    "    plt.show()"
   ]
  },
  {
   "cell_type": "code",
   "execution_count": 12,
   "id": "29d64cac",
   "metadata": {},
   "outputs": [
    {
     "data": {
      "image/png": "[encoded data removed]",
      "text/plain": [
       "<Figure size 1200x900 with 8 Axes>"
      ]
     },
     "metadata": {},
     "output_type": "display_data"
    }
   ],
   "source": [
    "target_idx = 0\n",
    "visualize_label_heatmaps(\n",
    "    target_idx=target_idx,\n",
    "    gesture=GESTURE,\n",
    "    loader=val_loader,          # ← 검증 DataLoader\n",
    "    model_with_attn=viz_model,  # ← return_attn=True 로 로드된 best 모델\n",
    "    n_samples=4,\n",
    "    head=0,\n",
    "    layer=-1,\n",
    "    device=Settings.device\n",
    ")"
   ]
  }
 ],
 "metadata": {
  "kernelspec": {
   "display_name": "Python 3",
   "language": "python",
   "name": "python3"
  },
  "language_info": {
   "codemirror_mode": {
    "name": "ipython",
    "version": 3
   },
   "file_extension": ".py",
   "mimetype": "text/x-python",
   "name": "python",
   "nbconvert_exporter": "python",
   "pygments_lexer": "ipython3",
   "version": "3.10.17"
  }
 },
 "nbformat": 4,
 "nbformat_minor": 5
}
