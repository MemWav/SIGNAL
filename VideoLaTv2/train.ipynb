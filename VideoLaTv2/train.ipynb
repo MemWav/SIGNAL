{
 "cells": [
  {
   "cell_type": "markdown",
   "id": "158d89c1",
   "metadata": {},
   "source": [
    "# Hand Gesture Transformer – Training notebook\n",
    "\n",
    "이 노트북은 Mediapipe로 추출한 21개 손 랜드마크(3‑D)를 Transformer Encoder에 넣어 4‑클래스 손동작을 분류하는 모델을 학습합니다.\n",
    "\n",
    "* Train : Val = 80 : 20\n",
    "* 결과: 에포크별 loss & accuracy 그래프, action별 Attention heat‑map 시각화\n"
   ]
  },
  {
   "cell_type": "code",
   "execution_count": 1,
   "id": "37f7a78c",
   "metadata": {},
   "outputs": [],
   "source": [
    "import os\n",
    "import numpy as np\n",
    "import torch\n",
    "import torch.nn as nn\n",
    "import torch.optim as optim\n",
    "from torch.utils.data import Dataset, DataLoader, random_split\n",
    "import pandas as pd\n",
    "from tqdm import tqdm\n",
    "import json\n",
    "import matplotlib.pyplot as plt\n",
    "from models.transformer_only import LandmarkTransformer\n",
    "import seaborn as sns\n",
    "from dataset_xyzva import GestureDatasetCSV\n",
    "from config import GESTURE"
   ]
  },
  {
   "cell_type": "code",
   "execution_count": null,
   "id": "afe5db52",
   "metadata": {},
   "outputs": [],
   "source": [
    "class Settings:\n",
    "    window_size = 30\n",
    "    batch_size = 64\n",
    "    epochs = 30\n",
    "    learning_rate = 0.0001\n",
    "    dataset_dir = './data/csv/train_data'\n",
    "    model_save_dir = './checkpoint/'\n",
    "    device = torch.device('cuda' if torch.cuda.is_available() else 'cpu')\n",
    "    num_classes = len(GESTURE)\n",
    "    seed = 42\n",
    "\n",
    "os.makedirs(Settings.model_save_dir, exist_ok=True)\n",
    "ckpt_path = os.path.join(Settings.model_save_dir, \"best_model.pth\")"
   ]
  },
  {
   "cell_type": "code",
   "execution_count": 3,
   "id": "ab5fd574",
   "metadata": {},
   "outputs": [],
   "source": [
    "dataset = GestureDatasetCSV(Settings.dataset_dir, Settings.window_size)\n",
    "train_size = int(0.8 * len(dataset))\n",
    "val_size = len(dataset) - train_size\n",
    "train_dataset, val_dataset = random_split(dataset, [train_size, val_size])\n",
    "train_loader = DataLoader(train_dataset, batch_size=Settings.batch_size, shuffle=True)\n",
    "val_loader = DataLoader(val_dataset, batch_size=Settings.batch_size, shuffle=False)"
   ]
  },
  {
   "cell_type": "code",
   "execution_count": 4,
   "id": "823f8c62",
   "metadata": {},
   "outputs": [],
   "source": [
    "# dataset = GestureDatasetCSV(Settings.dataset_dir, Settings.window_size)\n",
    "\n",
    "# n_total = len(dataset)\n",
    "# n_train = int(n_total * 0.7)\n",
    "# n_val = int(n_total * 0.2)\n",
    "# n_test  = n_total - n_train - n_val\n",
    "\n",
    "# train_set, val_set, test_set = random_split(\n",
    "#     dataset, [n_train, n_val, n_test],\n",
    "#     generator=torch.Generator().manual_seed(Settings.seed)\n",
    "# )\n",
    "\n",
    "\n",
    "# train_loader = DataLoader(train_set, batch_size=Settings.batch_size,\n",
    "#                           shuffle=True,  num_workers=4, pin_memory=True)\n",
    "# val_loader   = DataLoader(test_set,   batch_size=Settings.batch_size,\n",
    "#                           shuffle=False, num_workers=4, pin_memory=True)\n",
    "# test_loader = DataLoader(val_set, batch_size=Settings.batch_size,\n",
    "#                           shuffle=True,  num_workers=4, pin_memory=True)"
   ]
  },
  {
   "cell_type": "code",
   "execution_count": 5,
   "id": "44304525",
   "metadata": {},
   "outputs": [],
   "source": [
    "model = LandmarkTransformer().to(Settings.device)\n",
    "criterion = nn.CrossEntropyLoss()\n",
    "optimizer = optim.Adam(model.parameters(), lr=Settings.learning_rate)"
   ]
  },
  {
   "cell_type": "code",
   "execution_count": 6,
   "id": "5d9231a1",
   "metadata": {},
   "outputs": [],
   "source": [
    "def run(loader, train=True):\n",
    "    model.train(train)\n",
    "    tot, correct, loss_sum = 0,0,0.0\n",
    "    for x,y in tqdm(loader, leave=False):\n",
    "        x,y = x.to(Settings.device), y.to(Settings.device)\n",
    "        if train: optimizer.zero_grad()\n",
    "        out = model(x)\n",
    "        loss = criterion(out, y)\n",
    "        if train:\n",
    "            loss.backward()\n",
    "            optimizer.step()\n",
    "        pred = out.argmax(1)\n",
    "        tot += y.size(0); correct += (pred==y).sum().item()\n",
    "        loss_sum += loss.item()*y.size(0)\n",
    "    return loss_sum/tot, correct/tot"
   ]
  },
  {
   "cell_type": "code",
   "execution_count": 7,
   "id": "d93452bd",
   "metadata": {},
   "outputs": [
    {
     "name": "stderr",
     "output_type": "stream",
     "text": [
      "  0%|          | 0/103 [00:00<?, ?it/s]"
     ]
    },
    {
     "name": "stderr",
     "output_type": "stream",
     "text": [
      "                                                 \r"
     ]
    },
    {
     "name": "stdout",
     "output_type": "stream",
     "text": [
      "[1] train loss:1.4481 | accuracy:0.541\n",
      "val loss:0.6487 | accuracy:0.911\n",
      "  ↳ best saved (0.911)\n"
     ]
    },
    {
     "name": "stderr",
     "output_type": "stream",
     "text": [
      "                                                  \r"
     ]
    },
    {
     "name": "stdout",
     "output_type": "stream",
     "text": [
      "[2] train loss:0.5737 | accuracy:0.916\n",
      "val loss:0.2277 | accuracy:0.989\n",
      "  ↳ best saved (0.989)\n"
     ]
    },
    {
     "name": "stderr",
     "output_type": "stream",
     "text": [
      "                                                 \r"
     ]
    },
    {
     "name": "stdout",
     "output_type": "stream",
     "text": [
      "[3] train loss:0.2778 | accuracy:0.985\n",
      "val loss:0.0989 | accuracy:0.996\n",
      "  ↳ best saved (0.996)\n"
     ]
    },
    {
     "name": "stderr",
     "output_type": "stream",
     "text": [
      "                                                 \r"
     ]
    },
    {
     "name": "stdout",
     "output_type": "stream",
     "text": [
      "[4] train loss:0.1656 | accuracy:0.995\n",
      "val loss:0.0583 | accuracy:0.998\n",
      "  ↳ best saved (0.998)\n"
     ]
    },
    {
     "name": "stderr",
     "output_type": "stream",
     "text": [
      "                                                  \r"
     ]
    },
    {
     "name": "stdout",
     "output_type": "stream",
     "text": [
      "[5] train loss:0.1112 | accuracy:0.998\n",
      "val loss:0.0390 | accuracy:0.999\n",
      "  ↳ best saved (0.999)\n"
     ]
    },
    {
     "name": "stderr",
     "output_type": "stream",
     "text": [
      "                                                 \r"
     ]
    },
    {
     "name": "stdout",
     "output_type": "stream",
     "text": [
      "[6] train loss:0.0837 | accuracy:0.999\n",
      "val loss:0.0285 | accuracy:0.999\n",
      "  ↳ best saved (0.999)\n"
     ]
    },
    {
     "name": "stderr",
     "output_type": "stream",
     "text": [
      "                                                 \r"
     ]
    },
    {
     "name": "stdout",
     "output_type": "stream",
     "text": [
      "[7] train loss:0.0646 | accuracy:0.999\n",
      "val loss:0.0220 | accuracy:0.999\n",
      "  ↳ best saved (0.999)\n"
     ]
    },
    {
     "name": "stderr",
     "output_type": "stream",
     "text": [
      "                                                  \r"
     ]
    },
    {
     "name": "stdout",
     "output_type": "stream",
     "text": [
      "[8] train loss:0.0534 | accuracy:1.000\n",
      "val loss:0.0179 | accuracy:0.999\n",
      "  ↳ best saved (0.999)\n"
     ]
    },
    {
     "name": "stderr",
     "output_type": "stream",
     "text": [
      "                                                 \r"
     ]
    },
    {
     "name": "stdout",
     "output_type": "stream",
     "text": [
      "[9] train loss:0.0439 | accuracy:1.000\n",
      "val loss:0.0142 | accuracy:0.999\n",
      "  ↳ best saved (0.999)\n"
     ]
    },
    {
     "name": "stderr",
     "output_type": "stream",
     "text": [
      "                                                  \r"
     ]
    },
    {
     "name": "stdout",
     "output_type": "stream",
     "text": [
      "[10] train loss:0.0387 | accuracy:1.000\n",
      "val loss:0.0119 | accuracy:0.999\n",
      "  ↳ best saved (0.999)\n"
     ]
    },
    {
     "name": "stderr",
     "output_type": "stream",
     "text": [
      "                                                 \r"
     ]
    },
    {
     "name": "stdout",
     "output_type": "stream",
     "text": [
      "[11] train loss:0.0328 | accuracy:1.000\n",
      "val loss:0.0100 | accuracy:0.999\n",
      "  ↳ best saved (0.999)\n"
     ]
    },
    {
     "name": "stderr",
     "output_type": "stream",
     "text": [
      "                                                  \r"
     ]
    },
    {
     "name": "stdout",
     "output_type": "stream",
     "text": [
      "[12] train loss:0.0280 | accuracy:1.000\n",
      "val loss:0.0085 | accuracy:0.999\n",
      "  ↳ best saved (0.999)\n"
     ]
    },
    {
     "name": "stderr",
     "output_type": "stream",
     "text": [
      "                                                 \r"
     ]
    },
    {
     "name": "stdout",
     "output_type": "stream",
     "text": [
      "[13] train loss:0.0249 | accuracy:1.000\n",
      "val loss:0.0071 | accuracy:0.999\n",
      "  ↳ best saved (0.999)\n"
     ]
    },
    {
     "name": "stderr",
     "output_type": "stream",
     "text": [
      "                                                 \r"
     ]
    },
    {
     "name": "stdout",
     "output_type": "stream",
     "text": [
      "[14] train loss:0.0218 | accuracy:1.000\n",
      "val loss:0.0062 | accuracy:1.000\n",
      "  ↳ best saved (1.000)\n"
     ]
    },
    {
     "name": "stderr",
     "output_type": "stream",
     "text": [
      "                                                 \r"
     ]
    },
    {
     "name": "stdout",
     "output_type": "stream",
     "text": [
      "[15] train loss:0.0194 | accuracy:1.000\n",
      "val loss:0.0056 | accuracy:0.999\n"
     ]
    },
    {
     "name": "stderr",
     "output_type": "stream",
     "text": [
      "                                                 \r"
     ]
    },
    {
     "name": "stdout",
     "output_type": "stream",
     "text": [
      "[16] train loss:0.0172 | accuracy:1.000\n",
      "val loss:0.0049 | accuracy:1.000\n",
      "  ↳ best saved (1.000)\n"
     ]
    },
    {
     "name": "stderr",
     "output_type": "stream",
     "text": [
      "                                                  \r"
     ]
    },
    {
     "name": "stdout",
     "output_type": "stream",
     "text": [
      "[17] train loss:0.0157 | accuracy:1.000\n",
      "val loss:0.0041 | accuracy:1.000\n",
      "  ↳ best saved (1.000)\n"
     ]
    },
    {
     "name": "stderr",
     "output_type": "stream",
     "text": [
      "                                                 \r"
     ]
    },
    {
     "name": "stdout",
     "output_type": "stream",
     "text": [
      "[18] train loss:0.0134 | accuracy:1.000\n",
      "val loss:0.0037 | accuracy:1.000\n",
      "  ↳ best saved (1.000)\n"
     ]
    },
    {
     "name": "stderr",
     "output_type": "stream",
     "text": [
      "                                                 \r"
     ]
    },
    {
     "name": "stdout",
     "output_type": "stream",
     "text": [
      "[19] train loss:0.0125 | accuracy:1.000\n",
      "val loss:0.0032 | accuracy:1.000\n",
      "  ↳ best saved (1.000)\n"
     ]
    },
    {
     "name": "stderr",
     "output_type": "stream",
     "text": [
      "                                                  \r"
     ]
    },
    {
     "name": "stdout",
     "output_type": "stream",
     "text": [
      "[20] train loss:0.0112 | accuracy:1.000\n",
      "val loss:0.0029 | accuracy:1.000\n",
      "  ↳ best saved (1.000)\n"
     ]
    },
    {
     "name": "stderr",
     "output_type": "stream",
     "text": [
      "                                                 \r"
     ]
    },
    {
     "name": "stdout",
     "output_type": "stream",
     "text": [
      "[21] train loss:0.0104 | accuracy:1.000\n",
      "val loss:0.0026 | accuracy:1.000\n",
      "  ↳ best saved (1.000)\n"
     ]
    },
    {
     "name": "stderr",
     "output_type": "stream",
     "text": [
      "                                                 \r"
     ]
    },
    {
     "name": "stdout",
     "output_type": "stream",
     "text": [
      "[22] train loss:0.0093 | accuracy:1.000\n",
      "val loss:0.0023 | accuracy:1.000\n",
      "  ↳ best saved (1.000)\n"
     ]
    },
    {
     "name": "stderr",
     "output_type": "stream",
     "text": [
      "                                                  \r"
     ]
    },
    {
     "name": "stdout",
     "output_type": "stream",
     "text": [
      "[23] train loss:0.0089 | accuracy:1.000\n",
      "val loss:0.0021 | accuracy:1.000\n",
      "  ↳ best saved (1.000)\n"
     ]
    },
    {
     "name": "stderr",
     "output_type": "stream",
     "text": [
      "                                                 \r"
     ]
    },
    {
     "name": "stdout",
     "output_type": "stream",
     "text": [
      "[24] train loss:0.0079 | accuracy:1.000\n",
      "val loss:0.0019 | accuracy:1.000\n",
      "  ↳ best saved (1.000)\n"
     ]
    },
    {
     "name": "stderr",
     "output_type": "stream",
     "text": [
      "                                                 \r"
     ]
    },
    {
     "name": "stdout",
     "output_type": "stream",
     "text": [
      "[25] train loss:0.0074 | accuracy:1.000\n",
      "val loss:0.0017 | accuracy:1.000\n",
      "  ↳ best saved (1.000)\n"
     ]
    },
    {
     "name": "stderr",
     "output_type": "stream",
     "text": [
      "                                                 \r"
     ]
    },
    {
     "name": "stdout",
     "output_type": "stream",
     "text": [
      "[26] train loss:0.0069 | accuracy:1.000\n",
      "val loss:0.0015 | accuracy:1.000\n",
      "  ↳ best saved (1.000)\n"
     ]
    },
    {
     "name": "stderr",
     "output_type": "stream",
     "text": [
      "                                                 \r"
     ]
    },
    {
     "name": "stdout",
     "output_type": "stream",
     "text": [
      "[27] train loss:0.0065 | accuracy:1.000\n",
      "val loss:0.0014 | accuracy:1.000\n",
      "  ↳ best saved (1.000)\n"
     ]
    },
    {
     "name": "stderr",
     "output_type": "stream",
     "text": [
      "                                                 \r"
     ]
    },
    {
     "name": "stdout",
     "output_type": "stream",
     "text": [
      "[28] train loss:0.0060 | accuracy:1.000\n",
      "val loss:0.0013 | accuracy:1.000\n",
      "  ↳ best saved (1.000)\n"
     ]
    },
    {
     "name": "stderr",
     "output_type": "stream",
     "text": [
      "                                                 \r"
     ]
    },
    {
     "name": "stdout",
     "output_type": "stream",
     "text": [
      "[29] train loss:0.0054 | accuracy:1.000\n",
      "val loss:0.0011 | accuracy:1.000\n",
      "  ↳ best saved (1.000)\n"
     ]
    },
    {
     "name": "stderr",
     "output_type": "stream",
     "text": [
      "                                                  "
     ]
    },
    {
     "name": "stdout",
     "output_type": "stream",
     "text": [
      "[30] train loss:0.0050 | accuracy:1.000\n",
      "val loss:0.0010 | accuracy:1.000\n",
      "  ↳ best saved (1.000)\n",
      "\n",
      "Best accuracy = 1.000 (epoch 30)\n"
     ]
    },
    {
     "name": "stderr",
     "output_type": "stream",
     "text": [
      "\r"
     ]
    }
   ],
   "source": [
    "best = 0.0\n",
    "best_epoch = 0\n",
    "for ep in range(1, Settings.epochs+1):\n",
    "    train_loss, train_acc = run(train_loader,True)\n",
    "    val_loss ,val_acc = run(val_loader,False)\n",
    "    print(f\"[{ep}] train loss:{train_loss:.4f} | accuracy:{train_acc:.3f}\\nval loss:{val_loss:.4f} | accuracy:{val_acc:.3f}\")\n",
    "    if val_acc >= best:\n",
    "        best = val_acc\n",
    "        best_epoch = ep\n",
    "        torch.save(model.state_dict(), ckpt_path)\n",
    "        print(f\"  ↳ best saved ({best:.3f})\")\n",
    "\n",
    "print(f\"\\nBest accuracy = {best:.3f} (epoch {best_epoch})\")"
   ]
  },
  {
   "cell_type": "code",
   "execution_count": 8,
   "id": "f844a13d",
   "metadata": {},
   "outputs": [],
   "source": [
    "# model.load_state_dict(torch.load(ckpt_path))\n",
    "# test_loss, test_acc = run(test_loader, False)\n",
    "# print(f\"Test loss:{test_loss:.4f} | accuracy:{test_acc:.3f}\")"
   ]
  }
 ],
 "metadata": {
  "kernelspec": {
   "display_name": "Python 3",
   "language": "python",
   "name": "python3"
  },
  "language_info": {
   "codemirror_mode": {
    "name": "ipython",
    "version": 3
   },
   "file_extension": ".py",
   "mimetype": "text/x-python",
   "name": "python",
   "nbconvert_exporter": "python",
   "pygments_lexer": "ipython3",
   "version": "3.10.17"
  }
 },
 "nbformat": 4,
 "nbformat_minor": 5
}
